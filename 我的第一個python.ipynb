{
  "nbformat": 4,
  "nbformat_minor": 0,
  "metadata": {
    "colab": {
      "name": "我的第一個python.ipynb",
      "provenance": [],
      "toc_visible": true,
      "include_colab_link": true
    },
    "kernelspec": {
      "name": "python3",
      "display_name": "Python 3"
    },
    "language_info": {
      "name": "python"
    }
  },
  "cells": [
    {
      "cell_type": "markdown",
      "metadata": {
        "id": "view-in-github",
        "colab_type": "text"
      },
      "source": [
        "<a href=\"https://colab.research.google.com/github/arguskao/liverx2/blob/master/%E6%88%91%E7%9A%84%E7%AC%AC%E4%B8%80%E5%80%8Bpython.ipynb\" target=\"_parent\"><img src=\"https://colab.research.google.com/assets/colab-badge.svg\" alt=\"Open In Colab\"/></a>"
      ]
    },
    {
      "cell_type": "code",
      "source": [
        "# 攝華氏溫度轉換器\n",
        "c = int(input (\"攝氏溫度多少：\")) \n",
        "print (((9*c)/5)+32)"
      ],
      "metadata": {
        "colab": {
          "base_uri": "https://localhost:8080/"
        },
        "id": "z-W1v65FLsGa",
        "outputId": "d0f3d59c-3fc8-4242-dcf6-cf6b5612fe34"
      },
      "execution_count": null,
      "outputs": [
        {
          "output_type": "stream",
          "name": "stdout",
          "text": [
            "攝氏溫度多少：100\n",
            "212.0\n"
          ]
        }
      ]
    },
    {
      "cell_type": "code",
      "source": [
        "def circle(x):\n",
        " y = x*x*3.14\n",
        " return y\n",
        "\n",
        "\n",
        "x = int(input(\"半徑：\"))\n",
        "print (\"面積是:\",circle(x)) "
      ],
      "metadata": {
        "colab": {
          "base_uri": "https://localhost:8080/"
        },
        "id": "6Kd9O1HakKzn",
        "outputId": "93e18ea8-ac1a-4a50-c731-fcfc97e7fff9"
      },
      "execution_count": null,
      "outputs": [
        {
          "output_type": "stream",
          "name": "stdout",
          "text": [
            "半徑：5\n",
            "面積是: 78.5\n"
          ]
        }
      ]
    },
    {
      "cell_type": "code",
      "source": [
        "score1 = input(\"國文：\")\n",
        "score2 = input(\"英文：\")\n",
        "total = float(score1)+ float(score2)\n",
        "print (total)"
      ],
      "metadata": {
        "colab": {
          "base_uri": "https://localhost:8080/"
        },
        "id": "qNgNqnMrIQPb",
        "outputId": "32fa56bb-ec1a-4657-b2e6-83abd2b143b2"
      },
      "execution_count": null,
      "outputs": [
        {
          "output_type": "stream",
          "name": "stdout",
          "text": [
            "國文：90\n",
            "英文：70\n",
            "160.0\n"
          ]
        }
      ]
    },
    {
      "cell_type": "code",
      "source": [
        "sum = 0\n",
        "i =1\n",
        "\n",
        "for i in range(10):\n",
        "  sum = sum + i\n",
        "  i = i + 1\n",
        "  \n",
        "print (sum)  "
      ],
      "metadata": {
        "colab": {
          "base_uri": "https://localhost:8080/"
        },
        "id": "hLFgmOm5GIdU",
        "outputId": "2171e2d7-91bc-42e4-c170-84ea19067933"
      },
      "execution_count": null,
      "outputs": [
        {
          "output_type": "stream",
          "name": "stdout",
          "text": [
            "45\n"
          ]
        }
      ]
    },
    {
      "cell_type": "code",
      "source": [
        "n=int(input(\"請隨便輸入一個數值：\"))\n",
        "m=1\n",
        "k=0\n",
        "\n",
        "while n>m:\n",
        "  m= m*2\n",
        "  k= k+1\n",
        "\n",
        "if n==m:\n",
        "  print (n,\"是2的冪次\") \n",
        "else:\n",
        "  print (n,\"不是2的冪次\")   \n"
      ],
      "metadata": {
        "colab": {
          "base_uri": "https://localhost:8080/"
        },
        "id": "i_HQNee1jyLe",
        "outputId": "63edaa2b-ff17-4fd3-d93d-a42c156a790d"
      },
      "execution_count": null,
      "outputs": [
        {
          "output_type": "stream",
          "name": "stdout",
          "text": [
            "請隨便輸入一個數值：9\n",
            "9 不是2的冪次\n"
          ]
        }
      ]
    },
    {
      "cell_type": "code",
      "source": [
        "sum = 0 \n",
        "i= 0\n",
        "for i in range(5,10,2):\n",
        "  if i<1000:\n",
        "   sum = sum + i\n",
        "   i= i + 1\n",
        "print (sum)\n"
      ],
      "metadata": {
        "colab": {
          "base_uri": "https://localhost:8080/"
        },
        "id": "YCjVp7FHSr-n",
        "outputId": "87b8a1ae-1720-42f3-97de-ec9bf9b31b38"
      },
      "execution_count": null,
      "outputs": [
        {
          "output_type": "stream",
          "name": "stdout",
          "text": [
            "21\n"
          ]
        }
      ]
    },
    {
      "cell_type": "code",
      "source": [
        "for x in range(9):\n",
        "  x= x + 1\n",
        "  for y in range(9):\n",
        "   y = y + 1\n",
        "   print ((x,y),end=\"\")  \n",
        "  print()  "
      ],
      "metadata": {
        "colab": {
          "base_uri": "https://localhost:8080/"
        },
        "id": "5OxuTV7whKnU",
        "outputId": "2ba06225-3b56-45f0-e8dc-d527b17ebe27"
      },
      "execution_count": null,
      "outputs": [
        {
          "output_type": "stream",
          "name": "stdout",
          "text": [
            "(1, 1)(1, 2)(1, 3)(1, 4)(1, 5)(1, 6)(1, 7)(1, 8)(1, 9)\n",
            "(2, 1)(2, 2)(2, 3)(2, 4)(2, 5)(2, 6)(2, 7)(2, 8)(2, 9)\n",
            "(3, 1)(3, 2)(3, 3)(3, 4)(3, 5)(3, 6)(3, 7)(3, 8)(3, 9)\n",
            "(4, 1)(4, 2)(4, 3)(4, 4)(4, 5)(4, 6)(4, 7)(4, 8)(4, 9)\n",
            "(5, 1)(5, 2)(5, 3)(5, 4)(5, 5)(5, 6)(5, 7)(5, 8)(5, 9)\n",
            "(6, 1)(6, 2)(6, 3)(6, 4)(6, 5)(6, 6)(6, 7)(6, 8)(6, 9)\n",
            "(7, 1)(7, 2)(7, 3)(7, 4)(7, 5)(7, 6)(7, 7)(7, 8)(7, 9)\n",
            "(8, 1)(8, 2)(8, 3)(8, 4)(8, 5)(8, 6)(8, 7)(8, 8)(8, 9)\n",
            "(9, 1)(9, 2)(9, 3)(9, 4)(9, 5)(9, 6)(9, 7)(9, 8)(9, 9)\n"
          ]
        }
      ]
    },
    {
      "cell_type": "code",
      "source": [
        "a=int(input(\"基本需求：\"))\n",
        "b=int(input(\"價格敏感度：\"))\n",
        "c=int(input(\"成本：\"))\n",
        "\n",
        "maxprofit=0\n",
        "bestprice=0\n",
        "\n",
        "for p in range(c+1,a//b):\n",
        "  profit= (a-b*p)*(p-c)\n",
        "  if   profit > maxprofit:\n",
        "    maxprofit= profit\n",
        "    bestprice = p \n",
        "    print (p,profit) \n",
        "print(\"最好的利潤是:\",maxprofit)\n",
        "print(\"最好的價格是:\",bestprice) "
      ],
      "metadata": {
        "colab": {
          "base_uri": "https://localhost:8080/"
        },
        "id": "vUw5X8jMsXrt",
        "outputId": "f76bb3b4-e839-4e09-e518-9babf456957a"
      },
      "execution_count": null,
      "outputs": [
        {
          "output_type": "stream",
          "name": "stdout",
          "text": [
            "基本需求：100\n",
            "價格敏感度：2\n",
            "成本：10\n",
            "11 78\n",
            "12 152\n",
            "13 222\n",
            "14 288\n",
            "15 350\n",
            "16 408\n",
            "17 462\n",
            "18 512\n",
            "19 558\n",
            "20 600\n",
            "21 638\n",
            "22 672\n",
            "23 702\n",
            "24 728\n",
            "25 750\n",
            "26 768\n",
            "27 782\n",
            "28 792\n",
            "29 798\n",
            "30 800\n",
            "最好的利潤是: 800\n",
            "最好的價格是: 30\n"
          ]
        }
      ]
    },
    {
      "cell_type": "code",
      "source": [
        "list1=[0.06,0.15,0.22,0.22,0.17,0.10,0.05,0.02,0.01]\n",
        "\n",
        "c = int(input('單位進貨成本:'))\n",
        "r = int(input('單位零售價格:'))\n",
        "N = int(input('需求的可能個數:'))\n",
        "q = int(input('訂貨量:')) \n",
        "\n",
        "Expected_profit = 0\n",
        "\n",
        "\n",
        "for j in range(2):\n",
        " for i in list1[0:9]:\n",
        "  if i < q :\n",
        "        E = ( i*r - c*q)*listi \n",
        "  else:\n",
        "        E = ((r - c)*q)*i\n",
        "  \n",
        "  Expected_profit += E\n",
        "\n",
        "\n",
        "print (Expected_profit)"
      ],
      "metadata": {
        "colab": {
          "base_uri": "https://localhost:8080/",
          "height": 310
        },
        "id": "PbTDfarP91sL",
        "outputId": "3e2275e1-3821-4d90-92b2-19a8df4ebd8d"
      },
      "execution_count": null,
      "outputs": [
        {
          "name": "stdout",
          "output_type": "stream",
          "text": [
            "單位進貨成本:2\n",
            "單位零售價格:10\n",
            "需求的可能個數:8\n",
            "訂貨量:1\n"
          ]
        },
        {
          "output_type": "error",
          "ename": "NameError",
          "evalue": "ignored",
          "traceback": [
            "\u001b[0;31m---------------------------------------------------------------------------\u001b[0m",
            "\u001b[0;31mNameError\u001b[0m                                 Traceback (most recent call last)",
            "\u001b[0;32m<ipython-input-1-aede1eba6ee1>\u001b[0m in \u001b[0;36m<module>\u001b[0;34m()\u001b[0m\n\u001b[1;32m     12\u001b[0m  \u001b[0;32mfor\u001b[0m \u001b[0mi\u001b[0m \u001b[0;32min\u001b[0m \u001b[0mlist1\u001b[0m\u001b[0;34m[\u001b[0m\u001b[0;36m0\u001b[0m\u001b[0;34m:\u001b[0m\u001b[0;36m9\u001b[0m\u001b[0;34m]\u001b[0m\u001b[0;34m:\u001b[0m\u001b[0;34m\u001b[0m\u001b[0;34m\u001b[0m\u001b[0m\n\u001b[1;32m     13\u001b[0m   \u001b[0;32mif\u001b[0m \u001b[0mi\u001b[0m \u001b[0;34m<\u001b[0m \u001b[0mq\u001b[0m \u001b[0;34m:\u001b[0m\u001b[0;34m\u001b[0m\u001b[0;34m\u001b[0m\u001b[0m\n\u001b[0;32m---> 14\u001b[0;31m         \u001b[0mE\u001b[0m \u001b[0;34m=\u001b[0m \u001b[0;34m(\u001b[0m \u001b[0mi\u001b[0m\u001b[0;34m*\u001b[0m\u001b[0mr\u001b[0m \u001b[0;34m-\u001b[0m \u001b[0mc\u001b[0m\u001b[0;34m*\u001b[0m\u001b[0mq\u001b[0m\u001b[0;34m)\u001b[0m\u001b[0;34m*\u001b[0m\u001b[0mlisti\u001b[0m\u001b[0;34m\u001b[0m\u001b[0;34m\u001b[0m\u001b[0m\n\u001b[0m\u001b[1;32m     15\u001b[0m   \u001b[0;32melse\u001b[0m\u001b[0;34m:\u001b[0m\u001b[0;34m\u001b[0m\u001b[0;34m\u001b[0m\u001b[0m\n\u001b[1;32m     16\u001b[0m         \u001b[0mE\u001b[0m \u001b[0;34m=\u001b[0m \u001b[0;34m(\u001b[0m\u001b[0;34m(\u001b[0m\u001b[0mr\u001b[0m \u001b[0;34m-\u001b[0m \u001b[0mc\u001b[0m\u001b[0;34m)\u001b[0m\u001b[0;34m*\u001b[0m\u001b[0mq\u001b[0m\u001b[0;34m)\u001b[0m\u001b[0;34m*\u001b[0m\u001b[0mi\u001b[0m\u001b[0;34m\u001b[0m\u001b[0;34m\u001b[0m\u001b[0m\n",
            "\u001b[0;31mNameError\u001b[0m: name 'listi' is not defined"
          ]
        }
      ]
    },
    {
      "cell_type": "code",
      "source": [
        "a=-2\n",
        "b= -2%10\n",
        "print (b)"
      ],
      "metadata": {
        "colab": {
          "base_uri": "https://localhost:8080/"
        },
        "id": "ZWvbLZkQJ43b",
        "outputId": "1db69119-8962-44df-9fcc-e8d877e94a43"
      },
      "execution_count": null,
      "outputs": [
        {
          "output_type": "stream",
          "name": "stdout",
          "text": [
            "8\n"
          ]
        }
      ]
    },
    {
      "cell_type": "code",
      "source": [
        "def computepay(hrs, rate):\n",
        "    if hrs >=40:\n",
        "        Pay=(40 +(hrs-40)*1.5)*rate \n",
        "    else:\n",
        "        Pay = hrs *40\n",
        "    return Pay\n",
        "\n",
        "\n",
        "p = computepay(45, 10.5)\n",
        "print(\"Pay\", p)"
      ],
      "metadata": {
        "colab": {
          "base_uri": "https://localhost:8080/"
        },
        "id": "ZU3d7s0LXSTi",
        "outputId": "0eaf6b63-0a88-46b7-a762-56257e99a2c5"
      },
      "execution_count": null,
      "outputs": [
        {
          "output_type": "stream",
          "name": "stdout",
          "text": [
            "Pay 498.75\n"
          ]
        }
      ]
    },
    {
      "cell_type": "code",
      "source": [
        "            \n",
        "\n",
        "def computepay(hours, rate):\n",
        "    if hours >=40:\n",
        "        Pay=(40 +(hours-40)*1.5)*rate \n",
        "    else:\n",
        "        Pay = hours *40\n",
        "    return Pay\n",
        "\n",
        "hours=float(input(\"請輸入時間:\"))\n",
        "rate=float(input(\"請輸入rate:\"))\n",
        "\n",
        "#p = computepay(45, 10.5)\n",
        "print(\"Pay\", p)"
      ],
      "metadata": {
        "id": "FE7jbByTDRdw"
      },
      "execution_count": null,
      "outputs": []
    },
    {
      "cell_type": "code",
      "source": [
        "a = 22\n",
        "b = 33\n",
        " \n",
        "try:\n",
        "    if a < b:\n",
        "        print(n)\n",
        "except:\n",
        "    print(\"except\")\n",
        " \n",
        "print(\"after exception....\")\n",
        " "
      ],
      "metadata": {
        "colab": {
          "base_uri": "https://localhost:8080/"
        },
        "id": "e-RMi-MCEpjA",
        "outputId": "d4ea0666-0be3-42b3-ce6b-52506b5d7bc6"
      },
      "execution_count": null,
      "outputs": [
        {
          "output_type": "stream",
          "name": "stdout",
          "text": [
            "except\n",
            "after exception....\n"
          ]
        }
      ]
    },
    {
      "cell_type": "code",
      "source": [
        "smallest = None\n",
        "for value in [9,41,12,3,74,15]:\n",
        "  if value is smallest:\n",
        "    value = smallest\n",
        "  elif value < smallest:\n",
        "    value = smallest\n",
        "  print(smallest,value)  \n",
        "print(smallest)  \n"
      ],
      "metadata": {
        "colab": {
          "base_uri": "https://localhost:8080/",
          "height": 240
        },
        "id": "_7yATH5dKYQu",
        "outputId": "456feb57-6d1f-4fb0-9d83-0490d7864477"
      },
      "execution_count": null,
      "outputs": [
        {
          "output_type": "error",
          "ename": "TypeError",
          "evalue": "ignored",
          "traceback": [
            "\u001b[0;31m---------------------------------------------------------------------------\u001b[0m",
            "\u001b[0;31mTypeError\u001b[0m                                 Traceback (most recent call last)",
            "\u001b[0;32m<ipython-input-5-c81292cc1700>\u001b[0m in \u001b[0;36m<module>\u001b[0;34m()\u001b[0m\n\u001b[1;32m      3\u001b[0m   \u001b[0;32mif\u001b[0m \u001b[0mvalue\u001b[0m \u001b[0;32mis\u001b[0m \u001b[0msmallest\u001b[0m\u001b[0;34m:\u001b[0m\u001b[0;34m\u001b[0m\u001b[0;34m\u001b[0m\u001b[0m\n\u001b[1;32m      4\u001b[0m     \u001b[0mvalue\u001b[0m \u001b[0;34m=\u001b[0m \u001b[0msmallest\u001b[0m\u001b[0;34m\u001b[0m\u001b[0;34m\u001b[0m\u001b[0m\n\u001b[0;32m----> 5\u001b[0;31m   \u001b[0;32melif\u001b[0m \u001b[0mvalue\u001b[0m \u001b[0;34m<\u001b[0m \u001b[0msmallest\u001b[0m\u001b[0;34m:\u001b[0m\u001b[0;34m\u001b[0m\u001b[0;34m\u001b[0m\u001b[0m\n\u001b[0m\u001b[1;32m      6\u001b[0m     \u001b[0mvalue\u001b[0m \u001b[0;34m=\u001b[0m \u001b[0msmallest\u001b[0m\u001b[0;34m\u001b[0m\u001b[0;34m\u001b[0m\u001b[0m\n\u001b[1;32m      7\u001b[0m   \u001b[0mprint\u001b[0m\u001b[0;34m(\u001b[0m\u001b[0msmallest\u001b[0m\u001b[0;34m,\u001b[0m\u001b[0mvalue\u001b[0m\u001b[0;34m)\u001b[0m\u001b[0;34m\u001b[0m\u001b[0;34m\u001b[0m\u001b[0m\n",
            "\u001b[0;31mTypeError\u001b[0m: '<' not supported between instances of 'int' and 'NoneType'"
          ]
        }
      ]
    },
    {
      "cell_type": "code",
      "source": [
        "c = int(input('單位進貨成本:'))\n",
        "r = int(input('單位零售價格:'))\n",
        "N = int(input('需求的可能個數:'))\n",
        "q = int(input('訂貨量:')) \n",
        "\n",
        "Expected_profit = 0\n",
        "p = [0.11,0.01,0,0.04,0.82,0,0,0.02,0]  # 儲存數值於list中\n",
        "for i in range(N + 1):  # 把 0 到 N 數值代入1\n",
        "    if i < q :\n",
        "        E = ( i*r - c*q)*p[i] \n",
        "    else:\n",
        "        E = ((r - c)*q)*p[i]\n",
        "    Expected_profit = E + Expected_profit\n",
        "\n",
        "\n",
        "\n",
        "\n",
        "\n",
        "print('預期獲利:'+str(Expected_profit))"
      ],
      "metadata": {
        "colab": {
          "base_uri": "https://localhost:8080/"
        },
        "id": "YG0dwf_TMeAs",
        "outputId": "037d8ae0-87f1-4cca-d7f6-c7dba2926f03"
      },
      "execution_count": null,
      "outputs": [
        {
          "output_type": "stream",
          "name": "stdout",
          "text": [
            "單位進貨成本:2\n",
            "單位零售價格:10\n",
            "需求的可能個數:8\n",
            "訂貨量:1\n",
            "預期獲利:6.8999999999999995\n"
          ]
        }
      ]
    },
    {
      "cell_type": "code",
      "source": [
        "location= geocoder.osm('國立高雄師範大學').latlng\n",
        "location\n",
        "m= folium.Map(location=location,zoom_start=100)\n",
        "folium.Marker(location=location,popup=\"國立高雄師範大學\").add_to(m)\n",
        "m"
      ],
      "metadata": {
        "colab": {
          "base_uri": "https://localhost:8080/",
          "height": 435
        },
        "id": "yP78b7ROOjKT",
        "outputId": "12ed0618-0bde-4d6a-a02e-6cd57cf833db"
      },
      "execution_count": null,
      "outputs": [
        {
          "output_type": "execute_result",
          "data": {
            "text/html": [
              "<div style=\"width:100%;\"><div style=\"position:relative;width:100%;height:0;padding-bottom:60%;\"><span style=\"color:#565656\">Make this Notebook Trusted to load map: File -> Trust Notebook</span><iframe src=\"about:blank\" style=\"position:absolute;width:100%;height:100%;left:0;top:0;border:none !important;\" data-html=%3C%21DOCTYPE%20html%3E%0A%3Chead%3E%20%20%20%20%0A%20%20%20%20%3Cmeta%20http-equiv%3D%22content-type%22%20content%3D%22text/html%3B%20charset%3DUTF-8%22%20/%3E%0A%20%20%20%20%3Cscript%3EL_PREFER_CANVAS%3Dfalse%3B%20L_NO_TOUCH%3Dfalse%3B%20L_DISABLE_3D%3Dfalse%3B%3C/script%3E%0A%20%20%20%20%3Cscript%20src%3D%22https%3A//cdn.jsdelivr.net/npm/leaflet%401.4.0/dist/leaflet.js%22%3E%3C/script%3E%0A%20%20%20%20%3Cscript%20src%3D%22https%3A//code.jquery.com/jquery-1.12.4.min.js%22%3E%3C/script%3E%0A%20%20%20%20%3Cscript%20src%3D%22https%3A//maxcdn.bootstrapcdn.com/bootstrap/3.2.0/js/bootstrap.min.js%22%3E%3C/script%3E%0A%20%20%20%20%3Cscript%20src%3D%22https%3A//cdnjs.cloudflare.com/ajax/libs/Leaflet.awesome-markers/2.0.2/leaflet.awesome-markers.js%22%3E%3C/script%3E%0A%20%20%20%20%3Clink%20rel%3D%22stylesheet%22%20href%3D%22https%3A//cdn.jsdelivr.net/npm/leaflet%401.4.0/dist/leaflet.css%22/%3E%0A%20%20%20%20%3Clink%20rel%3D%22stylesheet%22%20href%3D%22https%3A//maxcdn.bootstrapcdn.com/bootstrap/3.2.0/css/bootstrap.min.css%22/%3E%0A%20%20%20%20%3Clink%20rel%3D%22stylesheet%22%20href%3D%22https%3A//maxcdn.bootstrapcdn.com/bootstrap/3.2.0/css/bootstrap-theme.min.css%22/%3E%0A%20%20%20%20%3Clink%20rel%3D%22stylesheet%22%20href%3D%22https%3A//maxcdn.bootstrapcdn.com/font-awesome/4.6.3/css/font-awesome.min.css%22/%3E%0A%20%20%20%20%3Clink%20rel%3D%22stylesheet%22%20href%3D%22https%3A//cdnjs.cloudflare.com/ajax/libs/Leaflet.awesome-markers/2.0.2/leaflet.awesome-markers.css%22/%3E%0A%20%20%20%20%3Clink%20rel%3D%22stylesheet%22%20href%3D%22https%3A//rawcdn.githack.com/python-visualization/folium/master/folium/templates/leaflet.awesome.rotate.css%22/%3E%0A%20%20%20%20%3Cstyle%3Ehtml%2C%20body%20%7Bwidth%3A%20100%25%3Bheight%3A%20100%25%3Bmargin%3A%200%3Bpadding%3A%200%3B%7D%3C/style%3E%0A%20%20%20%20%3Cstyle%3E%23map%20%7Bposition%3Aabsolute%3Btop%3A0%3Bbottom%3A0%3Bright%3A0%3Bleft%3A0%3B%7D%3C/style%3E%0A%20%20%20%20%0A%20%20%20%20%3Cmeta%20name%3D%22viewport%22%20content%3D%22width%3Ddevice-width%2C%0A%20%20%20%20%20%20%20%20initial-scale%3D1.0%2C%20maximum-scale%3D1.0%2C%20user-scalable%3Dno%22%20/%3E%0A%20%20%20%20%3Cstyle%3E%23map_3d81a2efde054f3d9f7a8d2401d56c4a%20%7B%0A%20%20%20%20%20%20%20%20position%3A%20relative%3B%0A%20%20%20%20%20%20%20%20width%3A%20100.0%25%3B%0A%20%20%20%20%20%20%20%20height%3A%20100.0%25%3B%0A%20%20%20%20%20%20%20%20left%3A%200.0%25%3B%0A%20%20%20%20%20%20%20%20top%3A%200.0%25%3B%0A%20%20%20%20%20%20%20%20%7D%0A%20%20%20%20%3C/style%3E%0A%3C/head%3E%0A%3Cbody%3E%20%20%20%20%0A%20%20%20%20%0A%20%20%20%20%3Cdiv%20class%3D%22folium-map%22%20id%3D%22map_3d81a2efde054f3d9f7a8d2401d56c4a%22%20%3E%3C/div%3E%0A%3C/body%3E%0A%3Cscript%3E%20%20%20%20%0A%20%20%20%20%0A%20%20%20%20%0A%20%20%20%20%20%20%20%20var%20bounds%20%3D%20null%3B%0A%20%20%20%20%0A%0A%20%20%20%20var%20map_3d81a2efde054f3d9f7a8d2401d56c4a%20%3D%20L.map%28%0A%20%20%20%20%20%20%20%20%27map_3d81a2efde054f3d9f7a8d2401d56c4a%27%2C%20%7B%0A%20%20%20%20%20%20%20%20center%3A%20%5B22.6255295%2C%20120.32159609508065%5D%2C%0A%20%20%20%20%20%20%20%20zoom%3A%20100%2C%0A%20%20%20%20%20%20%20%20maxBounds%3A%20bounds%2C%0A%20%20%20%20%20%20%20%20layers%3A%20%5B%5D%2C%0A%20%20%20%20%20%20%20%20worldCopyJump%3A%20false%2C%0A%20%20%20%20%20%20%20%20crs%3A%20L.CRS.EPSG3857%2C%0A%20%20%20%20%20%20%20%20zoomControl%3A%20true%2C%0A%20%20%20%20%20%20%20%20%7D%29%3B%0A%0A%0A%20%20%20%20%0A%20%20%20%20var%20tile_layer_461e828ddf8049ceac5e6625db307a0c%20%3D%20L.tileLayer%28%0A%20%20%20%20%20%20%20%20%27https%3A//%7Bs%7D.tile.openstreetmap.org/%7Bz%7D/%7Bx%7D/%7By%7D.png%27%2C%0A%20%20%20%20%20%20%20%20%7B%0A%20%20%20%20%20%20%20%20%22attribution%22%3A%20null%2C%0A%20%20%20%20%20%20%20%20%22detectRetina%22%3A%20false%2C%0A%20%20%20%20%20%20%20%20%22maxNativeZoom%22%3A%2018%2C%0A%20%20%20%20%20%20%20%20%22maxZoom%22%3A%2018%2C%0A%20%20%20%20%20%20%20%20%22minZoom%22%3A%200%2C%0A%20%20%20%20%20%20%20%20%22noWrap%22%3A%20false%2C%0A%20%20%20%20%20%20%20%20%22opacity%22%3A%201%2C%0A%20%20%20%20%20%20%20%20%22subdomains%22%3A%20%22abc%22%2C%0A%20%20%20%20%20%20%20%20%22tms%22%3A%20false%0A%7D%29.addTo%28map_3d81a2efde054f3d9f7a8d2401d56c4a%29%3B%0A%20%20%20%20%0A%20%20%20%20%20%20%20%20var%20marker_9230178dbf13441e97fa64ff7db67204%20%3D%20L.marker%28%0A%20%20%20%20%20%20%20%20%20%20%20%20%5B22.6255295%2C%20120.32159609508065%5D%2C%0A%20%20%20%20%20%20%20%20%20%20%20%20%7B%0A%20%20%20%20%20%20%20%20%20%20%20%20%20%20%20%20icon%3A%20new%20L.Icon.Default%28%29%2C%0A%20%20%20%20%20%20%20%20%20%20%20%20%20%20%20%20%7D%0A%20%20%20%20%20%20%20%20%20%20%20%20%29.addTo%28map_3d81a2efde054f3d9f7a8d2401d56c4a%29%3B%0A%20%20%20%20%20%20%20%20%0A%20%20%20%20%0A%20%20%20%20%20%20%20%20%20%20%20%20var%20popup_8e8aac5f94dc45718a3ff4b99dcd5a4e%20%3D%20L.popup%28%7BmaxWidth%3A%20%27100%25%27%0A%20%20%20%20%20%20%20%20%20%20%20%20%0A%20%20%20%20%20%20%20%20%20%20%20%20%7D%29%3B%0A%0A%20%20%20%20%20%20%20%20%20%20%20%20%0A%20%20%20%20%20%20%20%20%20%20%20%20%20%20%20%20var%20html_0d8063b4dba64f478755dbccdc2b6fc0%20%3D%20%24%28%60%3Cdiv%20id%3D%22html_0d8063b4dba64f478755dbccdc2b6fc0%22%20style%3D%22width%3A%20100.0%25%3B%20height%3A%20100.0%25%3B%22%3E%E5%9C%8B%E7%AB%8B%E9%AB%98%E9%9B%84%E5%B8%AB%E7%AF%84%E5%A4%A7%E5%AD%B8%3C/div%3E%60%29%5B0%5D%3B%0A%20%20%20%20%20%20%20%20%20%20%20%20%20%20%20%20popup_8e8aac5f94dc45718a3ff4b99dcd5a4e.setContent%28html_0d8063b4dba64f478755dbccdc2b6fc0%29%3B%0A%20%20%20%20%20%20%20%20%20%20%20%20%0A%0A%20%20%20%20%20%20%20%20%20%20%20%20marker_9230178dbf13441e97fa64ff7db67204.bindPopup%28popup_8e8aac5f94dc45718a3ff4b99dcd5a4e%29%0A%20%20%20%20%20%20%20%20%20%20%20%20%3B%0A%0A%20%20%20%20%20%20%20%20%20%20%20%20%0A%20%20%20%20%20%20%20%20%0A%3C/script%3E onload=\"this.contentDocument.open();this.contentDocument.write(    decodeURIComponent(this.getAttribute('data-html')));this.contentDocument.close();\" allowfullscreen webkitallowfullscreen mozallowfullscreen></iframe></div></div>"
            ],
            "text/plain": [
              "<folium.folium.Map at 0x7f51729e4ed0>"
            ]
          },
          "metadata": {},
          "execution_count": 19
        }
      ]
    },
    {
      "cell_type": "code",
      "source": [
        "list=[1,2,3,4,5,6,7,8,9,10,11,12]\n",
        "len(list)\n",
        "\n",
        "for i in range(len(list)):      \n",
        "  print (i)"
      ],
      "metadata": {
        "colab": {
          "base_uri": "https://localhost:8080/"
        },
        "id": "PRFdSZF-T9Ie",
        "outputId": "a32583ce-a86d-4bdd-c4e0-c7dc9ef075a8"
      },
      "execution_count": null,
      "outputs": [
        {
          "output_type": "stream",
          "name": "stdout",
          "text": [
            "0\n",
            "1\n",
            "2\n",
            "3\n",
            "4\n",
            "5\n",
            "6\n",
            "7\n",
            "8\n",
            "9\n",
            "10\n",
            "11\n"
          ]
        }
      ]
    },
    {
      "cell_type": "code",
      "source": [
        "import pandas as pd\n",
        "url = \"https://dts.twse.com.tw/opendata/t187ap03_L.csv\"\n",
        "df = pd.read_csv(url)\n",
        "all = df[\"公司簡稱\"]\n",
        "import random"
      ],
      "metadata": {
        "id": "0e50s7iMcZzq"
      },
      "execution_count": null,
      "outputs": []
    },
    {
      "cell_type": "code",
      "source": [
        "strategy1=random.choices(all,k=100)"
      ],
      "metadata": {
        "id": "ZIeYySdccuhJ"
      },
      "execution_count": null,
      "outputs": []
    },
    {
      "cell_type": "code",
      "source": [
        "strategy2=random.choices(all,k=150)"
      ],
      "metadata": {
        "id": "Udok7JgMdQ7Z"
      },
      "execution_count": null,
      "outputs": []
    },
    {
      "cell_type": "markdown",
      "source": [
        ""
      ],
      "metadata": {
        "id": "y3xs67Ehdd4P"
      }
    },
    {
      "cell_type": "code",
      "source": [
        "for i in range(10):\n",
        "    if i == 5:\n",
        "     continue\n",
        "    else:\n",
        "     print(i)\n"
      ],
      "metadata": {
        "colab": {
          "base_uri": "https://localhost:8080/"
        },
        "id": "dbrdc2uFpO0Q",
        "outputId": "02a3bbeb-8035-4d8b-d816-76939e205fc8"
      },
      "execution_count": null,
      "outputs": [
        {
          "output_type": "stream",
          "name": "stdout",
          "text": [
            "0\n",
            "1\n",
            "2\n",
            "3\n",
            "4\n",
            "6\n",
            "7\n",
            "8\n",
            "9\n"
          ]
        }
      ]
    },
    {
      "cell_type": "code",
      "source": [
        "dic1={\"apple\":1,\"orange\":2}\n",
        "dic1[\"pear\"]=3\n",
        "print(dic1)"
      ],
      "metadata": {
        "colab": {
          "base_uri": "https://localhost:8080/"
        },
        "id": "Rof8iDo1TkEW",
        "outputId": "25a4fa22-fe1e-4c18-e233-dee4448a8a76"
      },
      "execution_count": null,
      "outputs": [
        {
          "output_type": "stream",
          "name": "stdout",
          "text": [
            "{'apple': 1, 'orange': 2, 'pear': 3}\n"
          ]
        }
      ]
    },
    {
      "cell_type": "code",
      "source": [
        "import random\n",
        "\n",
        "x=random.sample(['雙子','獅子','山羊','雙魚','金牛','水瓶'],3)\n",
        "print(\"今年幸運的星座是:\",x)"
      ],
      "metadata": {
        "colab": {
          "base_uri": "https://localhost:8080/"
        },
        "id": "OQHY725IU7yR",
        "outputId": "889d2991-396e-4a99-f4e1-32518cac0b4b"
      },
      "execution_count": null,
      "outputs": [
        {
          "output_type": "stream",
          "name": "stdout",
          "text": [
            "今年幸運的星座是: ['山羊', '獅子', '金牛']\n"
          ]
        }
      ]
    },
    {
      "cell_type": "code",
      "source": [
        "import datetime\n",
        "today = datetime.date.today()\n",
        "list=['名','財','官','利','交','敗','衰','煞','絕']\n",
        "a=int(input(\"請輸入民國年次：\"))\n",
        "n=int(input(\"請輸入姓名總筆劃：（以康熙字典為準)\"))\n",
        "b=(today.year-a-1911+1)\n",
        "a1=(n%9)\n",
        "c=(today.year-1911)\n",
        "c1=(c%9)\n",
        "print(\"您今年\"+str(b)+\"歲(虛歲)\")\n",
        "#算法是流年-本命年，流年是b(要換成民國),本命年是a\n",
        "#a1是命宮數字,c1是流年的數字，所以都要c1-a1，如果小於0，就加9\n",
        "\n",
        "if c1>=a1:\n",
        "  r= c1-a1\n",
        "else:\n",
        "  r= c1-a1+9  \n",
        "\n",
        "print(\"今年是民國:\",c,\"年\")\n",
        "print(\"您的流年走:\",list[r])\n",
        "print(\"命宮數字：\",a1)\n"
      ],
      "metadata": {
        "colab": {
          "base_uri": "https://localhost:8080/"
        },
        "id": "TfnkjO0oimii",
        "outputId": "e4bedf27-4802-46b1-954e-489cb45772f5"
      },
      "execution_count": null,
      "outputs": [
        {
          "output_type": "stream",
          "name": "stdout",
          "text": [
            "請輸入民國年次：80\n",
            "請輸入姓名總筆劃：（以康熙字典為準)30\n",
            "您今年32歲(虛歲)\n",
            "今年是民國: 111 年\n",
            "您的流年走: 名\n",
            "命宮數字： 3\n"
          ]
        }
      ]
    },
    {
      "cell_type": "code",
      "source": [
        "import datetime\n",
        "today = datetime.date.today()\n",
        "list=['胎','養','長生','冠帶','臨官','帝望','衰','病','死','絕']\n",
        "a=int(input(\"請輸入民國年次：\"))\n",
        "n=int(input(\"請輸入姓名總筆劃：（以康熙字典為準)\"))\n",
        "b=(today.year-a-1911+1)\n",
        "n1=(n%10)\n",
        "c=(today.year-1911)\n",
        "b1=(b%10)\n",
        "print(\"您今年\"+str(b)+\"歲(虛歲)\")\n",
        "#print (\"今年是民國：\"+str(c)+\"年\")\n",
        "\n",
        "r= ((b1-n1)%10)+3\n",
        "'''\n",
        "if b1>n1:\n",
        "  r= ((b1-n1)%10)+3\n",
        "else:\n",
        "  r=((b1-n1)%10)+2\n",
        "'''  \n",
        "\n",
        "print(\"您的流年走:\",list[r])\n",
        "\n",
        "\n",
        "print(b1,n1,r)"
      ],
      "metadata": {
        "colab": {
          "base_uri": "https://localhost:8080/"
        },
        "id": "JmK8BMxTrvzM",
        "outputId": "dfd4d528-47a2-4e26-f266-fe51f2845604"
      },
      "execution_count": null,
      "outputs": [
        {
          "output_type": "stream",
          "name": "stdout",
          "text": [
            "請輸入民國年次：86\n",
            "請輸入姓名總筆劃：（以康熙字典為準)34\n",
            "您今年26歲(虛歲)\n",
            "您的流年走: 帝望\n",
            "6 4 5\n"
          ]
        }
      ]
    },
    {
      "cell_type": "code",
      "source": [
        "import datetime\n",
        "today = datetime.date.today()\n",
        "list1=['名','財','官','利','交','敗','衰','煞','絕']\n",
        "list2=['胎','養','長生','冠帶','臨官','帝望','衰','病','死','絕']\n",
        "fate=[['四季運轉如微風，靜心等待不落空；昔日若行虧心事，今日進得牢籠中。(太極)','冷熱交替逢太初，乍暖還寒風輕拂；年初若遇多是非，歲末必得貴人助。(兩儀)','左右逢源貴人旺，人吃骨頭我喝湯；若想得盡名與利，看你機運強不強。(小得)','一人之下萬人上，正氣歌裡文天祥；十二金牌召岳飛，徒呼負負怎逞強。(名望)','鴻運當頭喜連天，歡喜快活似神仙；今朝狀元何處尋，不在天邊在眼前。(名聲)','登峰造極易忘形，敲鑼打鼓奏鐘磬，借問何處是戰場，九州之內任我行。(巔峰)','助人點滴不望報，暗箭傷人笑裡刀，勸君為善不為惡，因果循環必難逃。(因果)','左有文曲右文昌，劉備身邊趙馬黃，若無臥龍與鳳雛，怎把威名天下揚。(良臣)','臨危受命升三級，今生難得此奇蹟，魚與熊掌難兼得，盼求功名不求利。(功名)','掌中傀儡難自由，喜怒哀樂任人糗，溥儀三歲登帝位，顛沛流離福難求。(虛名)'],\n",
        "      ['天羅地網無處逃，今番恐怕難解套，夏末秋初得此卦，若要強闖會糟糕。(套牢)','小心駛得萬年船，萬事守成保平安，原地踏步等時機，過了今年就好辦。(守成)','滴滴泉水可穿石，聚沙成塔才確實，皆說滾石不生苔，望君本業再堅持。(暗財)','若如高處不勝寒，戰戰兢兢度難關，出師未捷身先死，長使英雄淚滿衫。(抑制)','柳暗花明又一村，興高采烈勝新婚，恰如天邊流星過，機會消失不再輪。(曇花)','愚公移山雖難成，夜以繼日心意誠，他日感動上天助，金銀珠寶千百層。(努力)','一朝江郎才盡時，夢筆生花不再來，人心不足蛇吞象，世事臨頭螂撲蟬。(忌貪)','賺多賠少真不賴，艱苦經營可聚財，若是貪心亂投資，恐怕釀成大禍災。(經營)','關公兵敗走麥城，劉備報仇留遺恨，空有孔明曠世才，六出祈山功難成。(斷頭)','曹操重用司馬昭，魏家天下成晉朝，借問朝政有多糟，皆因君王不早朝。(包袱)'],\n",
        "      ['蕭規曹隨承前例，不動腦筋少力氣，千萬不可當前鋒，前人種樹後人取。(承接)','偷雞不著蝕把米，巴蛇吞象撐破皮，切記不可太貪心，賠了夫人又折兵。(貪心)','口含寶玉來出生，看似一片好前程，千萬莫當劉阿斗，樂不思蜀過一生。(阿斗)','光明殿上改遺詔，助得君王好運交，登台拜將授兵權，底定江山看今朝。(升官)','遍地機會任你挑，心癢難耐想跳槽，寧可兼職等時機，轉職還得待明朝。(兼差)','行百里路半九十，臨門一腳要堅持，眼看終點要到達，煮熟鴨子卻消失。(升官)','鯉躍龍門需等待，幻化成龍非凡胎，千方百計尋貴人，定能助你展長才。(栽培)','此路不通勿戀棧，繼續苦撐有困難，另覓他處求發展，更勝一番苦激戰。(圖利)','大鵬展翅三千里，渺小蚨蝣在水裡，近朱者赤近墨黑，佞臣小人速遠離。(層級)','龍游潛灘遭蝦戲，虎落平陽被犬欺，十年生聚不算晚，再展抱負不用急。(困難)'],\n",
        "      ['滿天星辰眼底收，雙手亂抓仍不夠，晴天霹靂雲端落，夢醒黃粱仍未熟。(作夢)','前朝苦果擔滿肩，要想平安不得閒，盲人瞎馬卻疾行，受得驚嚇卻無險。(驚險)','三更燈火勤讀書，清寒孤枝獨扶疏，男兒求取功名時，一舉成名天下知。(奮鬥)','田裡滿是黑土壤，春耕秋收盼冬藏，舉債買來稻穀種，怎知蝗蟲要囂張。(破財)','十戰九敗真艱難，將士無心再戀戰，此時敵軍糧草盡，機不可失勿自滿。(追擊)','荒蕪田地獨自墾，百里之內無城鎮，終年汗滴禾下土，兩鬢斑白方有成。(破財)','身體老邁名不再，門前冷落無人來，退出江湖歸隱去，每日上山去砍柴。(退隱)','昔日過關斬六將，水淹七軍功襄陽，今朝遇得絆馬索，一代忠良香火享。(失蹄)','螳螂補禪黃雀後，還有獵人在守候，凡事瞻前須回頭，野心勃勃防外露。(野心)','蠅撲窗紙滿頭包，跌跌撞撞無路逃，只是此門打不開，三思後行方可保。(未開)'],\n",
        "      ['混沌初開仍未明，需要正氣來運行，若是一心存善念，脫胎換骨步青雲。(天地)','天上降下文武曲，助君作戰成勁旅，若問何時是良辰，蟬鳴之後方可取。(轉機)','苦盡甘來磨成精，風風雨雨不易行，今朝幸有貴人助，更上層樓得慶幸。(苦成)','一人之下萬人上，日正當中我最強，莫忘戰國呂不韋，抄家滅門恨難當。(追損)','鯉躍龍門需調適，除舊佈新翻身時，寒窗苦讀無人問，一舉成名天下知。(翻身)','亢龍有悔顯大智，陰晴圓缺人皆知，盛極而衰君當記，轉機就在楓紅時。(實虛)','池水不動聚蚊蠅，勸君增添生力軍，外鄉發展莫遲疑，三年之後運光明。(外鄉)','晴時多雲偶陣雨，盼望陽光不可取，今朝若是有異動，兵敗山倒大勢去。(不定)','曹操敗走華容道，以為命休再難逃，守關大將關雲長，縱虎歸山把恩報。(轉世)','長板坡前趙子龍，三國戰將撐英雄，昔日亂軍救阿斗，今朝上陣災難逢。(過時)'],\n",
        "      ['烏雲滿天難向前，上窮碧落下黃泉，要想避禍先求藏，活罪難逃死罪免。(求藏)','真假貴人在身邊，誰忠誰奸難分辨，腳踏實地來經營，若是投機虧大錢。(投機)','眾口鑠金事不明，三人成虎孟母驚，要想逃得此關過，前往外鄉或可行。(是非)','明月高懸相思苦，黃泉路遙無歸途，憑君莫問封侯事，一將功成萬骨枯。(過氣)','身懷鉅款急返鄉，深怕良機被人搶，躲躲藏藏獨自行，若起貪念禍難檔。(盜取)','否極泰來下黃泉，左輔右弼皆不見，安石變法遭人忌，一片忠心可問天。(遭忌)','千古奸臣是和珅，乾隆一死無支撐，還是趁早做打算，氣數已盡將被整。(衰敗)','齒牙動搖看不清，廉頗老矣難再行，昔日戰場任馳騁，今夜夢裡淚濕襟。(多病)','聲名狼藉在故鄉，以退為進免遭殃，就算流落到外地，捲土重來又何妨。(暗渡)','誤陷流沙無支撐，孤苦伶仃事難成，明槍暗箭一起來，汨羅江邊是忠臣。(烏雲)'],\n",
        "      ['他日贈人一粒豆，今朝回報好豐收，功德簿上已記名，水到渠成不用愁。(回報)','上天降福在年初，雙喜臨門禍自除，身邊貴人多如山，努力必有利可圖。(賜福)','頑皮哪吒已失足，剖肚剔骨還父母，東海觀音降甘霖，善財童子現江湖。(再生)','一片誠心感動天，天龍八部在身邊，若是自恃本領高，獨闖失敗所難免。(不誠)','今科狀元眾人想，金鑾殿上真風光，祖上積德蔭後人，招為駙馬溫柔鄉。(祖徳)','去年騺伏為今朝，達到機會就發飆，前程似錦如奇蹟，升官發財三級跳。(奇蹟)','八十狀元是粱灝，屢敗屢戰志不拋，聖上欽點為令尹，風光生涯只三秒。(短發)','又贈寶刀又封官，為留人才設情關，雖有層層艱險阻，另覓明主成定案。(變節)','今年首重在機運，貴人出現是一定，要想獲得利與祿，尊上親下重合群。(機運)','閒雲野鶴是我心，淡泊名利兩樣情，雖是不才明主識，替我安排去從軍。(貴人)'],\n",
        "      ['秦失其鹿群雄起，看似處處是良機，要搶先看己實力，若是強奪頭落地。(流產)','紛紛擾擾滿地金，唾手可得真歡欣，好事多磨速難成，只需多費一份心。(額外)','身在本鄉遭困厄，徒呼負負又奈何，外邦看似機會多，恐是假象防不測。(假象)','桃園結義心不移，掛金封印尋兄去，過得五關斬六將，一馬當先萬人敵。(獨闖)','前有明槍後暗箭，馬行徐徐難向前，縱使此關能渡過，提心吊膽不可免。(苦渡)','列土封侯是天意，黃袍加身不用急，安心打造金龍椅，好運一片無邊際。(接替)','管他危機或轉機，身懷才能運皆吉，就怕碰到劉阿斗，四戰三敗可預期。(能力)','孫權妙計假招親，妄想一網盡成擒，誰知孔明施妙計，賠了夫人又折兵。(賠本)','冒死矯詔助雍正，平定西北大功臣，狡兔已死走狗烹，連降十級守城門。(無依)','千古功臣推岳飛，十二金牌速召回，無端命喪風波亭，迎回二聖是原罪。(忠誠)'],\n",
        "      ['陰顯陽來暗藏光，秋去冬來路變廣，若是小利還可接，恐有陷阱把你裝。(小利)','明月皎潔掛天邊，滿天星斗入懷間，翌日太陽升起時，化作輕煙都不見。(空歡)','洪水滔滔淹下邳，當年呂布受擒時，空知赤兔馬千里，漫有方天戟一枝。(危機)','地上流滿奶與蜜，迦南美地真奇蹟，歡樂時光不長久，只能維持到夏季。(斷後)','歲值驛馬不得閒，鎮日勞碌真操煩，日奔千里夜八百，氣定神閒惹人羨。(奔馳)','本業經營已有成，攀登高峰又一層，穩紮穩打憑實力，根基若穩必大勝。(根基)','昔日助人一碗飯，回報珠寶倉庫滿，以此當做生意本，必定成為大老闆。(回收)','孫臏被害失雙足，裝瘋賣傻裝糊塗，體弱多病遭人嫌，竟是無人可幫助。(斷足)','賣田賣地到外鄉，改頭換面隱姓名，孤注一擲重開始，走錯一步滿盤輸。(放棄)','靜觀其變不慌張，親朋好友在兩旁，切勿厭舊又喜新，再等一年又何妨。(靜觀)']]\n",
        "\n",
        "a=int(input(\"請輸入民國年次：\"))\n",
        "n=int(input(\"請輸入姓名總筆劃（以康熙字典為準):\"))\n",
        "#上面是通用的，最重要的兩個資料\n",
        "a1=(n%9)\n",
        "b=(today.year-a-1911+1)#b代表今年民國幾歲\n",
        "c=(today.year-1911)\n",
        "c1=(c%9)\n",
        "#上面是算流年\n",
        "\n",
        "n1=(n%10)\n",
        "c=(today.year-1911)\n",
        "b1=(b%10)\n",
        "print(\"您今年\"+str(b)+\"歲(虛歲)\")\n",
        "#上面是算運勢,b1代表\n",
        "\n",
        "\n",
        "if c1>=a1:\n",
        "  r= c1-a1\n",
        "else:\n",
        "  r= c1-a1+9  \n",
        "\n",
        "'''\n",
        "if b1-n1<7:\n",
        "  r2= b1-n1+3\n",
        "else:\n",
        "  r2= b1-n1+3\n",
        "'''\n",
        "r2=((b1-n1)%10)+3\n",
        "    \n",
        "\n",
        "print(\"今年是民國:\",c,\"年\")\n",
        "print(\"您的流年走:\",list1[r])\n",
        "print(\"您的運勢走:\",list2[r2])\n",
        "print(\"命宮數字：\",a1)\n",
        "print(\"您的流年卦象是:\",fate[r][r2])      \n",
        "\n",
        "\n"
      ],
      "metadata": {
        "colab": {
          "base_uri": "https://localhost:8080/"
        },
        "id": "WbDIAfNqulod",
        "outputId": "3111f449-cb09-42f0-caa5-b7380f5f6c1a"
      },
      "execution_count": null,
      "outputs": [
        {
          "output_type": "stream",
          "name": "stdout",
          "text": [
            "請輸入民國年次：59\n",
            "請輸入姓名總筆劃（以康熙字典為準):31\n",
            "您今年53歲(虛歲)\n",
            "今年是民國: 111 年\n",
            "您的流年走: 絕\n",
            "您的運勢走: 帝望\n",
            "命宮數字： 4\n",
            "您的流年卦象是: 本業經營已有成，攀登高峰又一層，穩紮穩打憑實力，根基若穩必大勝。(根基)\n"
          ]
        }
      ]
    },
    {
      "cell_type": "code",
      "source": [
        "import urllib.request as request\n",
        "import json\n",
        "src='https://data.coa.gov.tw/Service/OpenData/TransService.aspx?UnitId=fNT9RMo8PQRO'\n",
        "with request.urlopen(src) as response:\n",
        "  data=json.load(response)\n",
        "#print(data)\n",
        "\n",
        "#clist=data[\"result\"][\"results\"] \n",
        "\n",
        "counts=0\n",
        "with open(\"data.txt\",\"w\",encoding=\"utf-8\" ) as file: \n",
        "  for company in data:\n",
        "    if company[\"rank_code\"]==\"A\":\n",
        "      clist=(company['legalname']+\":\",company['legaladdress']+\"，\",company['validnum']+\"\\n\")\n",
        "      counts+=1 \n",
        "      file.writelines(clist) \n",
        "print(\"評鑑優良的寵物店一共有\",counts,\"家\")  \n"
      ],
      "metadata": {
        "colab": {
          "base_uri": "https://localhost:8080/"
        },
        "id": "CPF_ARjzgz4V",
        "outputId": "d80a7386-cd24-4e13-a137-17eca6eb169d"
      },
      "execution_count": 68,
      "outputs": [
        {
          "output_type": "stream",
          "name": "stdout",
          "text": [
            "評鑑優良的寵物店一共有 267 家\n"
          ]
        }
      ]
    },
    {
      "cell_type": "code",
      "source": [
        "list1=[1,2,3]\n",
        "list2=[7,8,9]\n",
        "for i,j in zip(list1,list2):\n",
        "  print(i,j)\n"
      ],
      "metadata": {
        "colab": {
          "base_uri": "https://localhost:8080/"
        },
        "id": "AbKQagYdsaAI",
        "outputId": "7fbaafb2-ceed-4b6a-df05-896d583128ad"
      },
      "execution_count": null,
      "outputs": [
        {
          "output_type": "stream",
          "name": "stdout",
          "text": [
            "1 7\n",
            "2 8\n",
            "3 9\n"
          ]
        }
      ]
    },
    {
      "cell_type": "code",
      "source": [
        ""
      ],
      "metadata": {
        "id": "6Q0pCO4UMFP-"
      },
      "execution_count": null,
      "outputs": []
    },
    {
      "cell_type": "code",
      "source": [
        "import urllib.request as request\n",
        "import json\n",
        "src='https://data.taipei/api/v1/dataset/42cfc382-f2b8-4c3a-87ad-37249634f78e?scope=resourceAquire'\n",
        "with request.urlopen(src) as response:\n",
        "  data=json.load(response)\n",
        "#print(data)\n",
        "\n",
        "clist=data[\"result\"][\"results\"] \n",
        "\n",
        "counts=0\n",
        "with open(\"data1.txt\",\"w\",encoding=\"utf-8\" ) as file: \n",
        "  for company in clist:\n",
        "      clist=(company['機構名稱']+\":\",company['地址']+\"，\",company['電話']+\"\\n\")\n",
        "      counts+=1 \n",
        "      file.writelines(clist)\n",
        "\n",
        "print(\"台北市的藥局一共有\",counts,\"家\")  \n"
      ],
      "metadata": {
        "colab": {
          "base_uri": "https://localhost:8080/"
        },
        "outputId": "c29d54dd-4c16-431b-99a5-2e94e9c7628c",
        "id": "vohJG4F2MhzA"
      },
      "execution_count": 70,
      "outputs": [
        {
          "output_type": "stream",
          "name": "stdout",
          "text": [
            "評鑑優良的寵物店一共有 819 家\n"
          ]
        }
      ]
    },
    {
      "cell_type": "code",
      "source": [
        ""
      ],
      "metadata": {
        "id": "XkjN5gRNNwuL"
      },
      "execution_count": null,
      "outputs": []
    },
    {
      "cell_type": "code",
      "source": [
        "import urllib.request as request\n",
        "import json\n",
        "src='https://data.coa.gov.tw/OpenData/Service/OpenData/DataFileService.aspx?UnitId=078'\n",
        "with request.urlopen(src) as response:\n",
        "  data=json.load(response)\n",
        "#print(data)\n",
        "\n",
        "#clist=data[\"result\"][\"results\"] \n",
        "\n",
        "counts=0\n",
        "with open(\"data2.txt\",\"w\",encoding=\"utf-8\" ) as file: \n",
        "  for company in data:\n",
        "    if company[\"執照類別\"]==\"獸醫師\":\n",
        "      clist=(company['機構名稱']+\":\",company['機構地址']+\"，\",company['機構電話']+\"\\n\")\n",
        "      counts+=1 \n",
        "      file.writelines(clist) \n",
        "print(\"獸醫診所一共有\",counts,\"家\")  \n"
      ],
      "metadata": {
        "colab": {
          "base_uri": "https://localhost:8080/"
        },
        "outputId": "2ccdf9a7-44ea-47f5-b4a2-cb5b143c2077",
        "id": "eCp6TvXMNxPn"
      },
      "execution_count": 72,
      "outputs": [
        {
          "output_type": "stream",
          "name": "stdout",
          "text": [
            "獸醫診所一共有 1721 家\n"
          ]
        }
      ]
    }
  ]
}